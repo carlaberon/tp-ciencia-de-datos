{
 "cells": [
  {
   "cell_type": "code",
   "execution_count": 4,
   "id": "0049521b",
   "metadata": {},
   "outputs": [],
   "source": [
    "import pandas as pd\n",
    "import numpy as np\n",
    "import matplotlib.pyplot as plt\n",
    "import seaborn as sns\n"
   ]
  },
  {
   "cell_type": "code",
   "execution_count": 12,
   "id": "6cbdd138",
   "metadata": {},
   "outputs": [
    {
     "name": "stdout",
     "output_type": "stream",
     "text": [
      "El valor 'X70' aparece 499 veces en la tercera columna.\n"
     ]
    }
   ],
   "source": [
    "#Carga de datos\n",
    "df = pd.read_csv('C:\\\\Users\\\\User\\\\Downloads\\\\universidad\\\\matematica 4\\\\CienciaDeDatos\\\\defweb22.csv', sep=';',header=None)\n",
    "\n",
    "# Ver cuántas veces aparece 'X70' en la tercera columna (índice 2)\n",
    "conteo = (df[2] == 'X70').sum()\n",
    "\n",
    "print(\"El valor 'X70' aparece\", conteo, \"veces en la tercera columna.\")"
   ]
  },
  {
   "cell_type": "code",
   "execution_count": 7,
   "id": "a204ade1",
   "metadata": {},
   "outputs": [
    {
     "name": "stdout",
     "output_type": "stream",
     "text": [
      "El valor 'X70' aparece 470 veces en la tercera columna.\n"
     ]
    }
   ],
   "source": [
    "pdf = pd.read_csv('C:\\\\Users\\\\User\\\\Downloads\\\\universidad\\\\matematica 4\\\\CienciaDeDatos\\\\defweb21.csv', sep=';',header=None)\n",
    "\n",
    "# Ver cuántas veces aparece 'X70' en la tercera columna (índice 2)\n",
    "conteo = (pdf[2] == 'X70').sum()\n",
    "\n",
    "print(\"El valor 'X70' aparece\", conteo, \"veces en la tercera columna.\")       "
   ]
  },
  {
   "cell_type": "code",
   "execution_count": 12,
   "id": "bce821f9",
   "metadata": {},
   "outputs": [
    {
     "name": "stdout",
     "output_type": "stream",
     "text": [
      "El valor 'X70' aparece 484 veces en la tercera columna.\n"
     ]
    }
   ],
   "source": [
    "#Carga de datos\n",
    "df = pd.read_csv('C:\\\\Users\\\\User\\\\Downloads\\\\universidad\\\\matematica 4\\\\CienciaDeDatos\\\\defweb20.csv', sep=';',header=None)\n",
    "\n",
    "# Ver cuántas veces aparece 'X70' en la tercera columna (índice 2)\n",
    "conteo = (df[2] == 'X70').sum()\n",
    "\n",
    "print(\"El valor 'X70' aparece\", conteo, \"veces en la tercera columna.\")"
   ]
  },
  {
   "cell_type": "code",
   "execution_count": 10,
   "id": "1a8fe2e3",
   "metadata": {},
   "outputs": [
    {
     "name": "stdout",
     "output_type": "stream",
     "text": [
      "El valor 'X70' aparece 481 veces en la tercera columna.\n"
     ]
    }
   ],
   "source": [
    "#Carga de datos\n",
    "df = pd.read_csv('C:\\\\Users\\\\User\\\\Downloads\\\\universidad\\\\matematica 4\\\\CienciaDeDatos\\\\defweb19.csv', sep=',',header=None,  encoding='latin1')\n",
    "\n",
    "# Ver cuántas veces aparece 'X70' en la tercera columna (índice 2)\n",
    "conteo = (df[2] == 'X70').sum()\n",
    "\n",
    "print(\"El valor 'X70' aparece\", conteo, \"veces en la tercera columna.\")"
   ]
  },
  {
   "cell_type": "code",
   "execution_count": 11,
   "id": "3bacf89f",
   "metadata": {},
   "outputs": [
    {
     "name": "stdout",
     "output_type": "stream",
     "text": [
      "El valor 'X70' aparece 457 veces en la tercera columna.\n"
     ]
    }
   ],
   "source": [
    "#Carga de datos\n",
    "df = pd.read_csv('C:\\\\Users\\\\User\\\\Downloads\\\\universidad\\\\matematica 4\\\\CienciaDeDatos\\\\defweb10.csv', sep=',',header=None,  encoding='latin1')\n",
    "\n",
    "# Ver cuántas veces aparece 'X70' en la tercera columna (índice 2)\n",
    "conteo = (df[2] == 'X70').sum()\n",
    "\n",
    "print(\"El valor 'X70' aparece\", conteo, \"veces en la tercera columna.\")"
   ]
  }
 ],
 "metadata": {
  "kernelspec": {
   "display_name": "Python 3",
   "language": "python",
   "name": "python3"
  },
  "language_info": {
   "codemirror_mode": {
    "name": "ipython",
    "version": 3
   },
   "file_extension": ".py",
   "mimetype": "text/x-python",
   "name": "python",
   "nbconvert_exporter": "python",
   "pygments_lexer": "ipython3",
   "version": "3.13.3"
  }
 },
 "nbformat": 4,
 "nbformat_minor": 5
}
