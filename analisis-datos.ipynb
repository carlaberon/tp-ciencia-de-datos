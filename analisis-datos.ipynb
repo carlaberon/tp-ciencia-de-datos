{
 "cells": [
  {
   "cell_type": "code",
   "execution_count": 8,
   "id": "fe36045c",
   "metadata": {},
   "outputs": [],
   "source": [
    "import pandas as pd\n",
    "import numpy as np\n",
    "import matplotlib.pyplot as plt\n",
    "import seaborn as sns\n",
    "from scipy.stats import poisson\n",
    "from scipy.stats import chisquare"
   ]
  },
  {
   "cell_type": "code",
   "execution_count": 14,
   "id": "b0a597d8",
   "metadata": {},
   "outputs": [],
   "source": [
    "#Carga de datos\n",
    "df = pd.read_csv('defweb23.csv',  sep=';')"
   ]
  },
  {
   "cell_type": "code",
   "execution_count": 15,
   "id": "8983f6a7",
   "metadata": {},
   "outputs": [
    {
     "name": "stdout",
     "output_type": "stream",
     "text": [
      "['PROVRES', 'SEXO', 'CAUSA', 'MAT', 'GRUPEDAD', 'CUENTA']\n",
      "Total muertes por obesidad: 183\n"
     ]
    }
   ],
   "source": [
    "print(df.columns.tolist())\n",
    "\n",
    "# Mostrar primeras filas para explorar columnas\n",
    "#print(df.head())\n",
    "\n",
    "# Verificar nombres de columnas\n",
    "#print(df.columns)\n",
    "\n",
    "# Supongamos que hay una columna 'CAUSA_DEF' con texto o código de la causa\n",
    "# Buscamos causas relacionadas con obesidad\n",
    "obesidad_df = df[df[\"CAUSA\"].str.contains(\"E66\", case=False, na=False)]\n",
    "\n",
    "# Mostrar número total de muertes por obesidad\n",
    "print(f\"Total muertes por obesidad: {len(obesidad_df)}\")\n"
   ]
  },
  {
   "cell_type": "code",
   "execution_count": 20,
   "id": "a1d57188",
   "metadata": {},
   "outputs": [
    {
     "name": "stdout",
     "output_type": "stream",
     "text": [
      "Provincias con defunciones por neumonía (J18):\n",
      "[34 74 18 42 46  6 54 22 50  2 86 14 38 26 78 82 66 99 98 90 10 94 30 62\n",
      " 70 58]\n",
      "Número de registros de defunciones por neumonía por provincia:\n",
      "PROVRES\n",
      "6     36\n",
      "54    34\n",
      "22    33\n",
      "34    33\n",
      "90    32\n",
      "82    32\n",
      "14    31\n",
      "66    31\n",
      "2     31\n",
      "18    29\n",
      "86    27\n",
      "46    26\n",
      "26    25\n",
      "50    24\n",
      "30    24\n",
      "78    24\n",
      "99    23\n",
      "38    23\n",
      "10    23\n",
      "42    22\n",
      "62    22\n",
      "74    19\n",
      "70    19\n",
      "94    13\n",
      "58     9\n",
      "98     6\n",
      "Name: count, dtype: int64\n"
     ]
    }
   ],
   "source": [
    "# Filtrar solo defunciones con causa J18 (neumonía)\n",
    "neumonia_df = df[df[\"CAUSA\"] == \"J18\"]\n",
    "\n",
    "# Ver provincias (valores únicos de la columna PROVRES)\n",
    "provincias_neumonia = neumonia_df[\"PROVRES\"].unique()\n",
    "\n",
    "print(\"Provincias con defunciones por neumonía (J18):\")\n",
    "print(provincias_neumonia)\n",
    "\n",
    "conteo_provincias = neumonia_df[\"PROVRES\"].value_counts()\n",
    "\n",
    "print(\"Número de registros de defunciones por neumonía por provincia:\")\n",
    "print(conteo_provincias)\n"
   ]
  },
  {
   "cell_type": "code",
   "execution_count": 21,
   "id": "39de4f8f",
   "metadata": {},
   "outputs": [
    {
     "name": "stdout",
     "output_type": "stream",
     "text": [
      "Provincias con defunciones por obesidad (E66):\n",
      "[30 14  2 82 58 26 50 18 74 42  6 62 90 70 86 22 66 10 46 54 78 94]\n",
      "Número de registros de defunciones por obesidad por provincia:\n",
      "PROVRES\n",
      "6     21\n",
      "14    18\n",
      "58    16\n",
      "50    15\n",
      "2     11\n",
      "70    11\n",
      "90    10\n",
      "82     9\n",
      "62     8\n",
      "66     8\n",
      "54     8\n",
      "30     6\n",
      "22     6\n",
      "18     6\n",
      "74     6\n",
      "42     5\n",
      "26     4\n",
      "86     4\n",
      "10     4\n",
      "46     4\n",
      "94     2\n",
      "78     1\n",
      "Name: count, dtype: int64\n"
     ]
    }
   ],
   "source": [
    "# Filtrar solo defunciones con causa E66 (obesidad)\n",
    "obesidad_df = df[df[\"CAUSA\"] == \"E66\"]\n",
    "\n",
    "# Ver provincias (valores únicos de la columna PROVRES)\n",
    "provincias_neumonia = obesidad_df[\"PROVRES\"].unique()\n",
    "\n",
    "print(\"Provincias con defunciones por obesidad (E66):\")\n",
    "print(provincias_neumonia)\n",
    "\n",
    "conteo_provincias = obesidad_df[\"PROVRES\"].value_counts()\n",
    "\n",
    "print(\"Número de registros de defunciones por obesidad por provincia:\")\n",
    "print(conteo_provincias)"
   ]
  },
  {
   "cell_type": "code",
   "execution_count": 18,
   "id": "386a8faf",
   "metadata": {},
   "outputs": [
    {
     "name": "stdout",
     "output_type": "stream",
     "text": [
      "La causa más común es 'J18' con 651 registros.\n"
     ]
    }
   ],
   "source": [
    "# Contar cuántas veces aparece cada código de causa\n",
    "conteo_causas = df[\"CAUSA\"].value_counts()\n",
    "\n",
    "# Mostrar la causa más común (la que más se repite)\n",
    "causa_mas_comun = conteo_causas.idxmax()\n",
    "frecuencia = conteo_causas.max()\n",
    "\n",
    "print(f\"La causa más común es '{causa_mas_comun}' con {frecuencia} registros.\")\n"
   ]
  }
 ],
 "metadata": {
  "kernelspec": {
   "display_name": "Python 3",
   "language": "python",
   "name": "python3"
  },
  "language_info": {
   "codemirror_mode": {
    "name": "ipython",
    "version": 3
   },
   "file_extension": ".py",
   "mimetype": "text/x-python",
   "name": "python",
   "nbconvert_exporter": "python",
   "pygments_lexer": "ipython3",
   "version": "3.12.0"
  }
 },
 "nbformat": 4,
 "nbformat_minor": 5
}
